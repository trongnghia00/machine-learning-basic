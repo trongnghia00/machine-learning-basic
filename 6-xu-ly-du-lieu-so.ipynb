{
 "cells": [
  {
   "cell_type": "code",
   "execution_count": 1,
   "metadata": {},
   "outputs": [],
   "source": [
    "import pandas as pd\n",
    "import numpy as np\n",
    "from sklearn.preprocessing import MinMaxScaler, StandardScaler"
   ]
  },
  {
   "cell_type": "code",
   "execution_count": 2,
   "metadata": {},
   "outputs": [],
   "source": [
    "# Đọc dữ liệu\n",
    "df = pd.read_csv('data/data6.csv')"
   ]
  },
  {
   "cell_type": "code",
   "execution_count": 3,
   "metadata": {},
   "outputs": [
    {
     "name": "stdout",
     "output_type": "stream",
     "text": [
      "   Age    Salary  Gender Department     City   Hire-Date\n",
      "0   56   32695.0  Female         IT  Chicago  2013-12-16\n",
      "1   46   78190.0    Male    Finance  Phoenix  2021-07-01\n",
      "2   32   35258.0    Male    Finance  Houston  2020-09-28\n",
      "3   60  117538.0  Female         IT  Houston  2010-09-11\n",
      "4   25   69504.0    Male         IT  Houston  2018-09-19\n"
     ]
    }
   ],
   "source": [
    "# Kiểm tra dữ liệu\n",
    "print(df.head())"
   ]
  },
  {
   "cell_type": "code",
   "execution_count": 4,
   "metadata": {},
   "outputs": [],
   "source": [
    "# Điền giá trị thiếu trong cột Salary bằng trung vị\n",
    "df['Salary'].fillna(df['Salary'].median(), inplace=True)"
   ]
  },
  {
   "cell_type": "code",
   "execution_count": 5,
   "metadata": {},
   "outputs": [],
   "source": [
    "# Min-Max Scaling\n",
    "scaler_minmax = MinMaxScaler()\n",
    "df[['Age_scaled', 'Salary_scaled']] = scaler_minmax.fit_transform(df[['Age', 'Salary']])"
   ]
  },
  {
   "cell_type": "code",
   "execution_count": 6,
   "metadata": {},
   "outputs": [],
   "source": [
    "# Standardization (Z-score Scaling)\n",
    "scaler_standard = StandardScaler()\n",
    "df[['Age_std', 'Salary_std']] = scaler_standard.fit_transform(df[['Age', 'Salary']])"
   ]
  },
  {
   "cell_type": "code",
   "execution_count": 7,
   "metadata": {},
   "outputs": [
    {
     "name": "stdout",
     "output_type": "stream",
     "text": [
      "   Age  Age_scaled   Age_std\n",
      "0   56    0.826087  1.086153\n",
      "1   46    0.608696  0.367798\n",
      "2   32    0.304348 -0.637899\n",
      "3   60    0.913043  1.373495\n",
      "4   25    0.152174 -1.140748\n",
      "     Salary  Salary_scaled  Salary_std\n",
      "0   32695.0       0.020895   -1.660470\n",
      "1   78190.0       0.402827   -0.330065\n",
      "2   35258.0       0.042412   -1.585521\n",
      "3  117538.0       0.733155    0.820585\n",
      "4   69504.0       0.329908   -0.584069\n"
     ]
    }
   ],
   "source": [
    "# Kết quả\n",
    "print(df[['Age', 'Age_scaled', 'Age_std']].head())\n",
    "print(df[['Salary', 'Salary_scaled', 'Salary_std']].head())"
   ]
  },
  {
   "cell_type": "code",
   "execution_count": 8,
   "metadata": {},
   "outputs": [],
   "source": [
    "from sklearn.preprocessing import LabelEncoder, OneHotEncoder"
   ]
  },
  {
   "cell_type": "code",
   "execution_count": 9,
   "metadata": {},
   "outputs": [],
   "source": [
    "# Label Encoding cho Gender\n",
    "le = LabelEncoder()\n",
    "df['Gender_Label'] = le.fit_transform(df['Gender'])"
   ]
  },
  {
   "cell_type": "code",
   "execution_count": 10,
   "metadata": {},
   "outputs": [],
   "source": [
    "# One-Hot Encoding cho Department\n",
    "df = pd.get_dummies(df, columns=['Department'], prefix='Dept')"
   ]
  },
  {
   "cell_type": "code",
   "execution_count": 11,
   "metadata": {},
   "outputs": [
    {
     "name": "stdout",
     "output_type": "stream",
     "text": [
      "   Gender  Gender_Label\n",
      "0  Female             0\n",
      "1    Male             1\n",
      "2    Male             1\n",
      "3  Female             0\n",
      "4    Male             1\n",
      "   Dept_Finance  Dept_HR  Dept_IT  Dept_Marketing  Dept_Sales\n",
      "0             0        0        1               0           0\n",
      "1             1        0        0               0           0\n",
      "2             1        0        0               0           0\n",
      "3             0        0        1               0           0\n",
      "4             0        0        1               0           0\n"
     ]
    }
   ],
   "source": [
    "# Hiển thị kết quả\n",
    "print(df[['Gender', 'Gender_Label']].head())\n",
    "print(df.filter(like='Dept_').head())"
   ]
  },
  {
   "cell_type": "code",
   "execution_count": 12,
   "metadata": {},
   "outputs": [],
   "source": [
    "from datetime import datetime\n",
    "\n",
    "# Chuyển đổi cột ngày tuyển dụng thành kiểu datetime\n",
    "df['Hire-Date'] = pd.to_datetime(df['Hire-Date'])"
   ]
  },
  {
   "cell_type": "code",
   "execution_count": 14,
   "metadata": {},
   "outputs": [],
   "source": [
    "# Tính số năm kinh nghiệm\n",
    "df['Experience'] = datetime.now().year - df['Hire-Date'].dt.year"
   ]
  },
  {
   "cell_type": "code",
   "execution_count": 15,
   "metadata": {},
   "outputs": [],
   "source": [
    "# Tạo nhóm lương (Low, Medium, High)\n",
    "df['Salary_Level'] = pd.cut(df['Salary'], bins=[0, 50000, 100000, np.inf], labels=['Low', 'Medium', 'High'])"
   ]
  },
  {
   "cell_type": "code",
   "execution_count": 17,
   "metadata": {},
   "outputs": [
    {
     "name": "stdout",
     "output_type": "stream",
     "text": [
      "   Hire-Date  Experience\n",
      "0 2013-12-16          12\n",
      "1 2021-07-01           4\n",
      "2 2020-09-28           5\n",
      "3 2010-09-11          15\n",
      "4 2018-09-19           7\n",
      "     Salary Salary_Level\n",
      "0   32695.0          Low\n",
      "1   78190.0       Medium\n",
      "2   35258.0          Low\n",
      "3  117538.0         High\n",
      "4   69504.0       Medium\n"
     ]
    }
   ],
   "source": [
    "# Hiển thị kết quả\n",
    "print(df[['Hire-Date', 'Experience']].head())\n",
    "print(df[['Salary', 'Salary_Level']].head())"
   ]
  },
  {
   "cell_type": "code",
   "execution_count": null,
   "metadata": {},
   "outputs": [],
   "source": []
  }
 ],
 "metadata": {
  "kernelspec": {
   "display_name": "base",
   "language": "python",
   "name": "python3"
  },
  "language_info": {
   "codemirror_mode": {
    "name": "ipython",
    "version": 3
   },
   "file_extension": ".py",
   "mimetype": "text/x-python",
   "name": "python",
   "nbconvert_exporter": "python",
   "pygments_lexer": "ipython3",
   "version": "3.9.12"
  }
 },
 "nbformat": 4,
 "nbformat_minor": 2
}
