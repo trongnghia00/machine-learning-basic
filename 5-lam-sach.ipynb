{
 "cells": [
  {
   "cell_type": "code",
   "execution_count": 1,
   "metadata": {},
   "outputs": [],
   "source": [
    "import pandas as pd"
   ]
  },
  {
   "cell_type": "code",
   "execution_count": 2,
   "metadata": {},
   "outputs": [],
   "source": [
    "# Đọc dữ liệu từ file CSV\n",
    "df = pd.read_csv(\"data/data5.csv\")"
   ]
  },
  {
   "cell_type": "code",
   "execution_count": 3,
   "metadata": {},
   "outputs": [
    {
     "data": {
      "text/html": [
       "<div>\n",
       "<style scoped>\n",
       "    .dataframe tbody tr th:only-of-type {\n",
       "        vertical-align: middle;\n",
       "    }\n",
       "\n",
       "    .dataframe tbody tr th {\n",
       "        vertical-align: top;\n",
       "    }\n",
       "\n",
       "    .dataframe thead th {\n",
       "        text-align: right;\n",
       "    }\n",
       "</style>\n",
       "<table border=\"1\" class=\"dataframe\">\n",
       "  <thead>\n",
       "    <tr style=\"text-align: right;\">\n",
       "      <th></th>\n",
       "      <th>Name</th>\n",
       "      <th>Department</th>\n",
       "      <th>Position</th>\n",
       "      <th>Salary</th>\n",
       "      <th>Hire-Date</th>\n",
       "    </tr>\n",
       "  </thead>\n",
       "  <tbody>\n",
       "    <tr>\n",
       "      <th>0</th>\n",
       "      <td>Richard Anderson</td>\n",
       "      <td>HR</td>\n",
       "      <td>Staff</td>\n",
       "      <td>3533.0</td>\n",
       "      <td>2022-08-15</td>\n",
       "    </tr>\n",
       "    <tr>\n",
       "      <th>1</th>\n",
       "      <td>Linda Jackson</td>\n",
       "      <td>Accounting</td>\n",
       "      <td>Staff</td>\n",
       "      <td>7324.0</td>\n",
       "      <td>2019-06-14</td>\n",
       "    </tr>\n",
       "    <tr>\n",
       "      <th>2</th>\n",
       "      <td>Charles Harris</td>\n",
       "      <td>Marketing</td>\n",
       "      <td>Assistant Manager</td>\n",
       "      <td>5237.0</td>\n",
       "      <td>2017-10-07</td>\n",
       "    </tr>\n",
       "    <tr>\n",
       "      <th>3</th>\n",
       "      <td>Richard Williams</td>\n",
       "      <td>Engineering</td>\n",
       "      <td>Manager</td>\n",
       "      <td>9754.0</td>\n",
       "      <td>2017-04-23</td>\n",
       "    </tr>\n",
       "    <tr>\n",
       "      <th>4</th>\n",
       "      <td>Richard Thompson</td>\n",
       "      <td>Sales</td>\n",
       "      <td>Staff</td>\n",
       "      <td>7411.0</td>\n",
       "      <td>2020-08-19</td>\n",
       "    </tr>\n",
       "  </tbody>\n",
       "</table>\n",
       "</div>"
      ],
      "text/plain": [
       "               Name   Department           Position  Salary   Hire-Date\n",
       "0  Richard Anderson           HR              Staff  3533.0  2022-08-15\n",
       "1     Linda Jackson   Accounting              Staff  7324.0  2019-06-14\n",
       "2    Charles Harris    Marketing  Assistant Manager  5237.0  2017-10-07\n",
       "3  Richard Williams  Engineering            Manager  9754.0  2017-04-23\n",
       "4  Richard Thompson        Sales              Staff  7411.0  2020-08-19"
      ]
     },
     "execution_count": 3,
     "metadata": {},
     "output_type": "execute_result"
    }
   ],
   "source": [
    "df.head()"
   ]
  },
  {
   "cell_type": "code",
   "execution_count": 4,
   "metadata": {},
   "outputs": [
    {
     "name": "stdout",
     "output_type": "stream",
     "text": [
      "Name          0\n",
      "Department    0\n",
      "Position      0\n",
      "Salary        1\n",
      "Hire-Date     1\n",
      "dtype: int64\n"
     ]
    }
   ],
   "source": [
    "# Kiểm tra các giá trị thiếu\n",
    "print(df.isnull().sum())"
   ]
  },
  {
   "cell_type": "code",
   "execution_count": 6,
   "metadata": {},
   "outputs": [
    {
     "name": "stdout",
     "output_type": "stream",
     "text": [
      "Name          0\n",
      "Department    0\n",
      "Position      0\n",
      "Salary        0\n",
      "Hire-Date     0\n",
      "dtype: int64\n"
     ]
    }
   ],
   "source": [
    "# Thay thế NaN bằng giá trị trung bình của cột \"Salary\"\n",
    "df['Salary'] = df['Salary'].fillna(df['Salary'].mean())\n",
    "\n",
    "# Xóa các hàng có giá trị thiếu\n",
    "df = df.dropna()\n",
    "\n",
    "# In ra kết quả\n",
    "print(df.isnull().sum())"
   ]
  },
  {
   "cell_type": "code",
   "execution_count": 7,
   "metadata": {},
   "outputs": [
    {
     "name": "stdout",
     "output_type": "stream",
     "text": [
      "2\n"
     ]
    }
   ],
   "source": [
    "# Kiểm tra các dòng trùng lặp\n",
    "print(df.duplicated().sum())"
   ]
  },
  {
   "cell_type": "code",
   "execution_count": 8,
   "metadata": {},
   "outputs": [
    {
     "name": "stdout",
     "output_type": "stream",
     "text": [
      "0\n"
     ]
    }
   ],
   "source": [
    "# Loại bỏ các dòng trùng lặp\n",
    "df = df.drop_duplicates()\n",
    "\n",
    "# Kiểm tra các dòng trùng lặp\n",
    "print(df.duplicated().sum())"
   ]
  },
  {
   "cell_type": "code",
   "execution_count": 9,
   "metadata": {},
   "outputs": [],
   "source": [
    "# Chuyển đổi cột \"Hire Date\" sang kiểu datetime\n",
    "df['Hire-Date'] = pd.to_datetime(df['Hire-Date'])"
   ]
  },
  {
   "cell_type": "code",
   "execution_count": 10,
   "metadata": {},
   "outputs": [
    {
     "data": {
      "text/html": [
       "<div>\n",
       "<style scoped>\n",
       "    .dataframe tbody tr th:only-of-type {\n",
       "        vertical-align: middle;\n",
       "    }\n",
       "\n",
       "    .dataframe tbody tr th {\n",
       "        vertical-align: top;\n",
       "    }\n",
       "\n",
       "    .dataframe thead th {\n",
       "        text-align: right;\n",
       "    }\n",
       "</style>\n",
       "<table border=\"1\" class=\"dataframe\">\n",
       "  <thead>\n",
       "    <tr style=\"text-align: right;\">\n",
       "      <th></th>\n",
       "      <th>Name</th>\n",
       "      <th>Department</th>\n",
       "      <th>Position</th>\n",
       "      <th>Salary</th>\n",
       "      <th>Hire-Date</th>\n",
       "    </tr>\n",
       "  </thead>\n",
       "  <tbody>\n",
       "    <tr>\n",
       "      <th>0</th>\n",
       "      <td>Richard Anderson</td>\n",
       "      <td>HR</td>\n",
       "      <td>Staff</td>\n",
       "      <td>3533.0</td>\n",
       "      <td>2022-08-15</td>\n",
       "    </tr>\n",
       "    <tr>\n",
       "      <th>1</th>\n",
       "      <td>Linda Jackson</td>\n",
       "      <td>Accounting</td>\n",
       "      <td>Staff</td>\n",
       "      <td>7324.0</td>\n",
       "      <td>2019-06-14</td>\n",
       "    </tr>\n",
       "    <tr>\n",
       "      <th>2</th>\n",
       "      <td>Charles Harris</td>\n",
       "      <td>Marketing</td>\n",
       "      <td>Assistant Manager</td>\n",
       "      <td>5237.0</td>\n",
       "      <td>2017-10-07</td>\n",
       "    </tr>\n",
       "    <tr>\n",
       "      <th>3</th>\n",
       "      <td>Richard Williams</td>\n",
       "      <td>Engineering</td>\n",
       "      <td>Manager</td>\n",
       "      <td>9754.0</td>\n",
       "      <td>2017-04-23</td>\n",
       "    </tr>\n",
       "    <tr>\n",
       "      <th>4</th>\n",
       "      <td>Richard Thompson</td>\n",
       "      <td>Sales</td>\n",
       "      <td>Staff</td>\n",
       "      <td>7411.0</td>\n",
       "      <td>2020-08-19</td>\n",
       "    </tr>\n",
       "  </tbody>\n",
       "</table>\n",
       "</div>"
      ],
      "text/plain": [
       "               Name   Department           Position  Salary  Hire-Date\n",
       "0  Richard Anderson           HR              Staff  3533.0 2022-08-15\n",
       "1     Linda Jackson   Accounting              Staff  7324.0 2019-06-14\n",
       "2    Charles Harris    Marketing  Assistant Manager  5237.0 2017-10-07\n",
       "3  Richard Williams  Engineering            Manager  9754.0 2017-04-23\n",
       "4  Richard Thompson        Sales              Staff  7411.0 2020-08-19"
      ]
     },
     "execution_count": 10,
     "metadata": {},
     "output_type": "execute_result"
    }
   ],
   "source": [
    "df.head()"
   ]
  },
  {
   "cell_type": "code",
   "execution_count": 11,
   "metadata": {},
   "outputs": [
    {
     "name": "stdout",
     "output_type": "stream",
     "text": [
      "               Name   Department           Position  Salary  Hire-Date\n",
      "0  Richard Anderson           HR              Staff  3533.0 2022-08-15\n",
      "1     Linda Jackson   Accounting              Staff  7324.0 2019-06-14\n",
      "2    Charles Harris    Marketing  Assistant Manager  5237.0 2017-10-07\n",
      "3  Richard Williams  Engineering            Manager  9754.0 2017-04-23\n",
      "4  Richard Thompson        Sales              Staff  7411.0 2020-08-19\n"
     ]
    }
   ],
   "source": [
    "# Chuẩn hóa chuỗi ký tự (loại bỏ khoảng trắng thừa)\n",
    "df['Name'] = df['Name'].str.strip()\n",
    "df['Department'] = df['Department'].str.strip()\n",
    "\n",
    "# In ra kết quả\n",
    "print(df.head())"
   ]
  },
  {
   "cell_type": "code",
   "execution_count": null,
   "metadata": {},
   "outputs": [],
   "source": []
  }
 ],
 "metadata": {
  "kernelspec": {
   "display_name": "base",
   "language": "python",
   "name": "python3"
  },
  "language_info": {
   "codemirror_mode": {
    "name": "ipython",
    "version": 3
   },
   "file_extension": ".py",
   "mimetype": "text/x-python",
   "name": "python",
   "nbconvert_exporter": "python",
   "pygments_lexer": "ipython3",
   "version": "3.9.12"
  }
 },
 "nbformat": 4,
 "nbformat_minor": 2
}
